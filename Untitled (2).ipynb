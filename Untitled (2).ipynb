{
 "cells": [
  {
   "cell_type": "markdown",
   "id": "fc096378-ca9f-40b9-98fa-f91a77283a74",
   "metadata": {
    "tags": []
   },
   "source": [
    "## Statistics Advance-6\n",
    "Q1. Explain the assumptions required to use ANOVA and provide examples of violations that could impact\n",
    "the validity of the results.\n",
    "Q2. What are the three types of ANOVA, and in what situations would each be used?\n",
    "Q3. What is the partitioning of variance in ANOVA, and why is it important to understand this concept?\n",
    "Q4. How would you calculate the total sum of squares (SST), explained sum of squares (SSE), and residual\n",
    "sum of squares (SSR) in a one-way ANOVA using Python?\n",
    "Q5. In a two-way ANOVA, how would you calculate the main effects and interaction effects using Python?\n",
    "Q6. Suppose you conducted a one-way ANOVA and obtained an F-statistic of 5.23 and a p-value of 0.02.\n",
    "What can you conclude about the differences between the groups, and how would you interpret these\n",
    "results?\n",
    "Q7. In a repeated measures ANOVA, how would you handle missing data, and what are the potential\n",
    "consequences of using different methods to handle missing data?\n",
    "Q8. What are some common post-hoc tests used after ANOVA, and when would you use each one? Provide\n",
    "an example of a situation where a post-hoc test might be necessary.\n",
    "Q9. A researcher wants to compare the mean weight loss of three diets: A, B, and C. They collect data from\n",
    "50 participants who were randomly assigned to one of the diets. Conduct a one-way ANOVA using Python\n",
    "to determine if there are any significant differences between the mean weight loss of the three diets.\n",
    "Report the F-statistic and p-value, and interpret the results.\n",
    "Q10. A company wants to know if there are any significant differences in the average time it takes to\n",
    "complete a task using three different software programs: Program A, Program B, and Program C. They\n",
    "randomly assign 30 employees to one of the programs and record the time it takes each employee to\n",
    "complete the task. Conduct a two-way ANOVA using Python to determine if there are any main effects or\n",
    "interaction effects between the software programs and employee experience level (novice vs.\n",
    "experienced). Report the F-statistics and p-values, and interpret the results.\n",
    "\n",
    "significant differences in sales between the three stores. If the results are significant, follow up with a post-\n",
    "hoc test to determine which store(s) differ significantly from each other.\n"
   ]
  },
  {
   "cell_type": "markdown",
   "id": "36f8ecaa-486e-440f-9bec-f5086c57afa7",
   "metadata": {},
   "source": [
    "Q1. Explain the assumptions required to use ANOVA and provide examples of violations that could impact\n",
    "the validity of the results."
   ]
  },
  {
   "cell_type": "markdown",
   "id": "d7590cd1-ee1b-4b7c-bec4-cea56da7debb",
   "metadata": {},
   "source": [
    "To use the ANOVA test we made the following assumptions:\n",
    "\n",
    "Each group sample is drawn from a normally distributed population\n",
    "All populations have a common variance\n",
    "All samples are drawn independently of each other\n",
    "Within each sample, the observations are sampled randomly and independently of each other\n",
    "Factor effects are additive\n",
    "The presence of outliers can also cause problems. In addition, we need to make sure that the F statistic is well behaved. In particular, the F statistic is relatively robust to violations of normality provided:\n",
    "\n",
    "The populations are symmetrical and uni-modal.\n",
    "The sample sizes for the groups are equal and greater than 10\n",
    "In general, as long as the sample sizes are equal (called a balanced model) and sufficiently large, the normality assumption can be violated provided the samples are symmetrical or at least similar in shape (e.g. all are negatively skewed).\n",
    "\n",
    "Implicit factors: lack of independence within a sample.\n",
    "Lack of independence: lack of independence between samples.\n",
    "Outliers: apparent nonnormality by a few data points.\n",
    "Nonnormality: nonnormality of entire samples.\n",
    "Unequal population variances."
   ]
  },
  {
   "cell_type": "markdown",
   "id": "b0feaee5-0433-4f50-98ce-ae81aec565d5",
   "metadata": {},
   "source": [
    "Q2. What are the three types of ANOVA, and in what situations would each be used?"
   ]
  },
  {
   "cell_type": "raw",
   "id": "e5fb67a7-eb60-4dde-b338-ec4a37d016ad",
   "metadata": {},
   "source": [
    "one way anova - one factor with at least two level and  these are independent \n",
    "example - doctor want to test a new medication to decrease headache they split the participant in condition (10mg,20 mg,30mg)\n",
    "\n",
    "Repeated measure anova- one factor with atleast 2 leval ,level are dependent\n",
    "factor = Running\n",
    "level Day1   Day2   Day3 \n",
    "       8      5      6\n",
    "       7      4      3\n",
    "       9      8      7\n",
    "       \n",
    "Factorial anova - two or factor each of which with at least of two level can be either indenpendent oor dependent\n",
    "factor= Running\n",
    "   Day1   Day2   DAy3\n",
    "men8     5      7 \n",
    "   4     4      6 \n",
    "women6     3      6 \n",
    "   8     6      3\n"
   ]
  },
  {
   "cell_type": "markdown",
   "id": "7ffa15f3-d0bb-47ff-bda4-0fcc9e484619",
   "metadata": {},
   "source": [
    "Q3. What is the partitioning of variance in ANOVA, and why is it important to understand this concept?"
   ]
  },
  {
   "cell_type": "markdown",
   "id": "4f3cdf23-6bea-4911-8f4c-527a49a8b0df",
   "metadata": {},
   "source": [
    "An ANOVA uses an F-test to evaluate whether the variance among the groups is greater than the variance within a group.\n",
    "\n",
    "Another way to view this problem is that we could partition variance, that is, we could divide the total variance in our data into the various sources of that variation. Some of the variance would come from variation among replicates within each group. Some of the variance may also come from variation among the groups. Partitioning variance is an incredibly important concept within statistics. For scientists, it is a useful way of looking at the world: variation is everywhere, and we want to know the relative contributions of all the sources of variation."
   ]
  },
  {
   "cell_type": "markdown",
   "id": "693e5352-fe2a-42cd-a530-bd530ca4f391",
   "metadata": {},
   "source": [
    "Q4. How would you calculate the total sum of squares (SST), explained sum of squares (SSE), and residual\n",
    "sum of squares (SSR) in a one-way ANOVA using Python?"
   ]
  },
  {
   "cell_type": "markdown",
   "id": "18aaa655-14e0-4a48-8b39-72bdc10cad2f",
   "metadata": {},
   "source": [
    "Step 1: Calculate the mean of the sample. Step 2: Subtract the mean from each sample value, and square each difference. Step 3: Sum these squared differences to calculate the Total Sum of Squares (SST)."
   ]
  },
  {
   "cell_type": "raw",
   "id": "4da55bce-73c8-430d-bcf5-be1db272ea72",
   "metadata": {},
   "source": [
    "\n",
    "import pandas as pd \n",
    "import numpy as np \n",
    "from sklearn.linear_model import LinearRegression \n",
    "\n",
    "\n",
    "\n",
    "data = pd.read_csv('headbrain2.csv') \n",
    "\n",
    "\n",
    "X = data[['Head Size(cm^3)']] \n",
    "\n",
    " \n",
    "y = data['Brain Weight(grams)'] \n",
    "\n",
    "\n",
    "model = LinearRegression() \n",
    "\n",
    "\n",
    "model.fit(X, y) \n",
    "\n",
    "y_pred = model.predict(X) \n",
    "df = pd.DataFrame({'Actual': y, 'Predicted': \n",
    "y_pred}) \n",
    "\n",
    "print(' residual sum of squares is : '+ str(np.sum(np.square(df['Predicted'] - df['Actual']))))\n"
   ]
  },
  {
   "cell_type": "markdown",
   "id": "e0cf2276-edd5-4468-92e4-59f76321117c",
   "metadata": {},
   "source": [
    "Q5. In a two-way ANOVA, how would you calculate the main effects and interaction effects using Python?"
   ]
  },
  {
   "cell_type": "raw",
   "id": "8c28a11c-5281-4dda-b886-54444699bd08",
   "metadata": {},
   "source": [
    "\n",
    "import numpy as np \n",
    "import pandas as pd\n",
    "dataframe = pd.DataFrame({'Fertilizer': np.repeat(['daily', 'weekly'], 15), \n",
    "                          'Watering': np.repeat(['daily', 'weekly'], 15), \n",
    "                          'height': [14, 16, 15, 15, 16, 13, 12, 11, 14,  \n",
    "                                     15, 16, 16, 17, 18, 14, 13, 14, 14,  \n",
    "                                     14, 15, 16, 16, 17, 18, 14, 13, 14,  \n",
    "                                     14, 14, 15]}) \n",
    "import statsmodels.api as sm \n",
    "from statsmodels.formula.api import ols \n",
    "  \n",
    "\n",
    "dataframe = pd.DataFrame({'Fertilizer': np.repeat(['daily', 'weekly'], 15), \n",
    "                          'Watering': np.repeat(['daily', 'weekly'], 15), \n",
    "                          'height': [14, 16, 15, 15, 16, 13, 12, 11, \n",
    "                                     14, 15, 16, 16, 17, 18, 14, 13,  \n",
    "                                     14, 14, 14, 15, 16, 16, 17, 18, \n",
    "                                     14, 13, 14, 14, 14, 15]}) \n",
    "  \n",
    "  \n",
    "\n",
    "model = ols(\"height ~ C(Fertilizer) + C(Watering) +\\ \n",
    "C(Fertilizer):C(Watering)\", \n",
    "            data=dataframe).fit() \n",
    "result = sm.stats.anova_lm(model, type=2) \n",
    "  \n",
    "# Print the result \n",
    "print(result) "
   ]
  },
  {
   "cell_type": "markdown",
   "id": "2fc7cc35-2af7-4107-888b-d098f3153496",
   "metadata": {},
   "source": [
    "Q7. In a repeated measures ANOVA, how would you handle missing data, and what are the potential\n",
    "consequences of using different methods to handle missing data?"
   ]
  },
  {
   "cell_type": "markdown",
   "id": "494228cf-9564-489e-93be-8e61a6f897f5",
   "metadata": {},
   "source": [
    "One of the biggest problems with traditional repeated measures ANOVA is missing data on the response variable.\n",
    "\n",
    "The problem is that repeated measures ANOVA treats each measurement as a separate variable. Because it uses listwise deletion, if one measurement is missing, the entire case gets dropped.\n",
    "\n",
    "What to use instead: Marginal and mixed models treat each occasion as a different observation of the same variable. So you may lose the measurement with missing data, but not all other responses from the same subject."
   ]
  },
  {
   "cell_type": "markdown",
   "id": "d2e48a9e-1ba9-4bda-814a-41e05552bc52",
   "metadata": {},
   "source": [
    "Q8. What are some common post-hoc tests used after ANOVA, and when would you use each one? Provide\n",
    "an example of a situation where a post-hoc test might be necessary."
   ]
  },
  {
   "cell_type": "markdown",
   "id": "af75b5fa-2064-4639-9816-6367e9d649a5",
   "metadata": {},
   "source": [
    "Post hoc tests are an integral part of ANOVA. When you use ANOVA to test the equality of at least three group means, statistically significant results indicate that not all of the group means are equal. However, ANOVA results do not identify which particular differences between pairs of means are significant. Use post hoc tests to explore differences between multiple group means while controlling the experiment-wise error rate.\n",
    "\n",
    "In this post, I’ll show you what post hoc analyses are, the critical benefits they provide, and help you choose the correct one for your study. Additionally, I’ll show why failure to control the experiment-wise error rate will cause you to have severe doubts about your results.\n",
    "\n",
    "Using Post Hoc Tests with ANOVA\n",
    "By Jim Frost 125 Comments\n",
    "\n",
    "Post hoc tests are an integral part of ANOVA. When you use ANOVA to test the equality of at least three group means, statistically significant results indicate that not all of the group means are equal. However, ANOVA results do not identify which particular differences between pairs of means are significant. Use post hoc tests to explore differences between multiple group means while controlling the experiment-wise error rate.\n",
    "\n",
    "In this post, I’ll show you what post hoc analyses are, the critical benefits they provide, and help you choose the correct one for your study. Additionally, I’ll show why failure to control the experiment-wise error rate will cause you to have severe doubts about your results.\n",
    "\n",
    "Starting with the ANOVA Omnibus Test\n",
    "Typically, when you want to determine whether three or more means are different, you’ll perform ANOVA. Statisticians refer to the ANOVA F-test as an omnibus test. Welch’s ANOVA is another type of omnibus test.\n",
    "\n",
    "An omnibus test provides overall results for your data. Collectively, are the differences between the means statistically significant—Yes or No?\n",
    "\n",
    "If the p-value from your ANOVA F-test or Welch’s test is less than your significance level, you can reject the null hypothesis.\n",
    "\n",
    "Null: All group means are equal.\n",
    "Alternative: Not all group means are equal.\n",
    "However, ANOVA test results don’t map out which groups are different from other groups. As you can see from the hypotheses above, if you can reject the null, you only know that not all of the means are equal. Sometimes you really need to know which groups are significantly different from other groups!\n",
    "\n",
    "Statisticians consider differences between group means to be an unstandardized effect size because these values indicate the strength of the relationship using values that retain the natural units of the dependent variable. Effect sizes help you understand how important the findings are in a real-world sense. To learn more about unstandardized and standardized effect sizes, read my post about Effect Sizes in Statistics.\n",
    "\n",
    "To learn more about ANOVA tests, including the more complex forms, read my ANOVA Overview.\n",
    "\n",
    "Related posts: How F-tests Work in ANOVA and Welch’s ANOVA\n",
    "\n",
    "Example One-Way ANOVA to Use with Post Hoc Tests\n",
    "We’ll start with this one-way ANOVA example, and then use it to illustrate three post hoc tests throughout this blog post. Imagine we are testing four materials that we’re considering for making a product part. We want to determine whether the mean differences between the strengths of these four materials are statistically significant. We obtain the following one-way ANOVA results. To follow along with this example, download the CSV dataset: PostHocTests."
   ]
  },
  {
   "cell_type": "markdown",
   "id": "fa502d90-aa5a-4d20-9dc7-eade3deda84e",
   "metadata": {},
   "source": [
    "Q9. A researcher wants to compare the mean weight loss of three diets: A, B, and C. They collect data from\n",
    "50 participants who were randomly assigned to one of the diets. Conduct a one-way ANOVA using Python\n",
    "to determine if there are any significant differences between the mean weight loss of the three diets.\n",
    "Report the F-statistic and p-value, and interpret the results."
   ]
  },
  {
   "cell_type": "code",
   "execution_count": 19,
   "id": "e6e81540-0cbf-4d56-950b-a617e43c794b",
   "metadata": {},
   "outputs": [
    {
     "data": {
      "text/plain": [
       "F_onewayResult(statistic=49.99999999999991, pvalue=0.00018135776513497815)"
      ]
     },
     "execution_count": 19,
     "metadata": {},
     "output_type": "execute_result"
    }
   ],
   "source": [
    "from scipy import stats as st\n",
    "diet_A = [10,10,10]\n",
    "diet_B = [4,4,2]\n",
    "diet_C =[2,4,4]\n",
    "\n",
    "\n",
    "\n",
    "st.f_oneway(diet_A,diet_B,diet_C)"
   ]
  },
  {
   "cell_type": "markdown",
   "id": "55429aa8-ce9d-46ed-a075-a2bf9d462cbe",
   "metadata": {},
   "source": [
    "Q10. A company wants to know if there are any significant differences in the average time it takes to\n",
    "complete a task using three different software programs: Program A, Program B, and Program C. They\n",
    "randomly assign 30 employees to one of the programs and record the time it takes each employee to\n",
    "complete the task. Conduct a two-way ANOVA using Python to determine if there are any main effects or\n",
    "interaction effects between the software programs and employee experience level (novice vs.\n",
    "experienced). Report the F-statistics and p-values, and interpret the results."
   ]
  },
  {
   "cell_type": "code",
   "execution_count": 20,
   "id": "a460950b-9589-41a5-b393-cbbace07772c",
   "metadata": {},
   "outputs": [
    {
     "name": "stdout",
     "output_type": "stream",
     "text": [
      "       WeightLoss\n",
      "count   12.000000\n",
      "mean     4.883333\n",
      "std      1.089481\n",
      "min      3.000000\n",
      "25%      4.000000\n",
      "50%      5.100000\n",
      "75%      5.625000\n",
      "max      6.200000\n"
     ]
    },
    {
     "data": {
      "image/png": "[encoded data removed]",
      "text/plain": [
       "<Figure size 640x480 with 1 Axes>"
      ]
     },
     "metadata": {},
     "output_type": "display_data"
    },
    {
     "name": "stdout",
     "output_type": "stream",
     "text": [
      "                sum_sq   df         F    PR(>F)\n",
      "Diet          4.676333  2.0  9.169281  0.052715\n",
      "Workout       4.521333  2.0  8.865359  0.055050\n",
      "Diet:Workout  0.603667  4.0  0.591830  0.694337\n",
      "Residual      0.765000  3.0       NaN       NaN\n"
     ]
    }
   ],
   "source": [
    "import pandas as pd\n",
    "import seaborn as sns\n",
    "import matplotlib.pyplot as plt\n",
    "import statsmodels.api as sm\n",
    "from statsmodels.formula.api import ols\n",
    "from statsmodels.stats.anova import anova_lm\n",
    "data = {\n",
    "    'Diet': ['A', 'A', 'A', 'A', 'B', 'B', 'B', 'B', 'C', 'C', 'C', 'C'],\n",
    "    'Workout': ['Low', 'Medium', 'High', 'Low', 'Medium', 'High', 'Low', 'Medium', 'High', 'Low', 'Medium', 'High'],\n",
    "    'WeightLoss': [3, 4, 5, 3.2, 5, 6, 5.2, 6, 5.5, 4, 5.5, 6.2]\n",
    "}\n",
    "df = pd.DataFrame(data)\n",
    "\n",
    "print(df.describe())\n",
    "sns.boxplot(x='Diet', y='WeightLoss', data=df, hue='Workout')\n",
    "plt.xlabel('Diet')\n",
    "plt.ylabel('Weight Loss')\n",
    "plt.title('Weight Loss by Diet and Workout Regime')\n",
    "plt.show()\n",
    "\n",
    "model = ols('WeightLoss ~ Diet + Workout + Diet:Workout', data=df).fit()\n",
    "\n",
    "anova_results = anova_lm(model, typ=2)\n",
    "print(anova_results)"
   ]
  },
  {
   "cell_type": "markdown",
   "id": "12ac2253-65c5-49ee-a1af-a088839c9cac",
   "metadata": {},
   "source": []
  },
  {
   "cell_type": "code",
   "execution_count": null,
   "id": "91f45ced-7ab6-42fe-8c61-b0a568039e93",
   "metadata": {},
   "outputs": [],
   "source": []
  }
 ],
 "metadata": {
  "kernelspec": {
   "display_name": "Python 3 (ipykernel)",
   "language": "python",
   "name": "python3"
  },
  "language_info": {
   "codemirror_mode": {
    "name": "ipython",
    "version": 3
   },
   "file_extension": ".py",
   "mimetype": "text/x-python",
   "name": "python",
   "nbconvert_exporter": "python",
   "pygments_lexer": "ipython3",
   "version": "3.10.8"
  }
 },
 "nbformat": 4,
 "nbformat_minor": 5
}
